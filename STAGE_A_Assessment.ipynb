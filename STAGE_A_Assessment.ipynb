{
  "nbformat": 4,
  "nbformat_minor": 0,
  "metadata": {
    "colab": {
      "name": "STAGE_A_Assessment.ipynb",
      "provenance": [],
      "collapsed_sections": [],
      "toc_visible": true,
      "authorship_tag": "ABX9TyOmAGCJ8AnygHShsPdkmaIO",
      "include_colab_link": true
    },
    "kernelspec": {
      "name": "python3",
      "display_name": "Python 3"
    },
    "language_info": {
      "name": "python"
    }
  },
  "cells": [
    {
      "cell_type": "markdown",
      "metadata": {
        "id": "view-in-github",
        "colab_type": "text"
      },
      "source": [
        "<a href=\"https://colab.research.google.com/github/oalawode/Git_Class1/blob/main/STAGE_A_Assessment.ipynb\" target=\"_parent\"><img src=\"https://colab.research.google.com/assets/colab-badge.svg\" alt=\"Open In Colab\"/></a>"
      ]
    },
    {
      "cell_type": "code",
      "metadata": {
        "id": "fzxZ0EY-FiqW"
      },
      "source": [
        "import pandas as pd\n",
        "import numpy as np"
      ],
      "execution_count": null,
      "outputs": []
    },
    {
      "cell_type": "code",
      "metadata": {
        "colab": {
          "base_uri": "https://localhost:8080/",
          "height": 410
        },
        "id": "_X8ibukTFwnm",
        "outputId": "6ee08602-7c2a-4b4f-c57a-dda2c5006d38"
      },
      "source": [
        "url='http://bit.ly/HDSC-Dataset'\n",
        "fuel_data = pd.read_csv(url, error_bad_lines=False)\n",
        "fuel_data.describe(include='all')"
      ],
      "execution_count": null,
      "outputs": [
        {
          "output_type": "execute_result",
          "data": {
            "text/html": [
              "<div>\n",
              "<style scoped>\n",
              "    .dataframe tbody tr th:only-of-type {\n",
              "        vertical-align: middle;\n",
              "    }\n",
              "\n",
              "    .dataframe tbody tr th {\n",
              "        vertical-align: top;\n",
              "    }\n",
              "\n",
              "    .dataframe thead th {\n",
              "        text-align: right;\n",
              "    }\n",
              "</style>\n",
              "<table border=\"1\" class=\"dataframe\">\n",
              "  <thead>\n",
              "    <tr style=\"text-align: right;\">\n",
              "      <th></th>\n",
              "      <th>record_id</th>\n",
              "      <th>utility_id_ferc1</th>\n",
              "      <th>report_year</th>\n",
              "      <th>plant_name_ferc1</th>\n",
              "      <th>fuel_type_code_pudl</th>\n",
              "      <th>fuel_unit</th>\n",
              "      <th>fuel_qty_burned</th>\n",
              "      <th>fuel_mmbtu_per_unit</th>\n",
              "      <th>fuel_cost_per_unit_burned</th>\n",
              "      <th>fuel_cost_per_unit_delivered</th>\n",
              "      <th>fuel_cost_per_mmbtu</th>\n",
              "    </tr>\n",
              "  </thead>\n",
              "  <tbody>\n",
              "    <tr>\n",
              "      <th>count</th>\n",
              "      <td>29523</td>\n",
              "      <td>29523.000000</td>\n",
              "      <td>29523.000000</td>\n",
              "      <td>29523</td>\n",
              "      <td>29523</td>\n",
              "      <td>29343</td>\n",
              "      <td>2.952300e+04</td>\n",
              "      <td>29523.000000</td>\n",
              "      <td>29523.000000</td>\n",
              "      <td>2.952300e+04</td>\n",
              "      <td>29523.000000</td>\n",
              "    </tr>\n",
              "    <tr>\n",
              "      <th>unique</th>\n",
              "      <td>29523</td>\n",
              "      <td>NaN</td>\n",
              "      <td>NaN</td>\n",
              "      <td>2315</td>\n",
              "      <td>6</td>\n",
              "      <td>9</td>\n",
              "      <td>NaN</td>\n",
              "      <td>NaN</td>\n",
              "      <td>NaN</td>\n",
              "      <td>NaN</td>\n",
              "      <td>NaN</td>\n",
              "    </tr>\n",
              "    <tr>\n",
              "      <th>top</th>\n",
              "      <td>f1_fuel_2007_12_194_0_4</td>\n",
              "      <td>NaN</td>\n",
              "      <td>NaN</td>\n",
              "      <td>big stone</td>\n",
              "      <td>gas</td>\n",
              "      <td>mcf</td>\n",
              "      <td>NaN</td>\n",
              "      <td>NaN</td>\n",
              "      <td>NaN</td>\n",
              "      <td>NaN</td>\n",
              "      <td>NaN</td>\n",
              "    </tr>\n",
              "    <tr>\n",
              "      <th>freq</th>\n",
              "      <td>1</td>\n",
              "      <td>NaN</td>\n",
              "      <td>NaN</td>\n",
              "      <td>156</td>\n",
              "      <td>11486</td>\n",
              "      <td>11354</td>\n",
              "      <td>NaN</td>\n",
              "      <td>NaN</td>\n",
              "      <td>NaN</td>\n",
              "      <td>NaN</td>\n",
              "      <td>NaN</td>\n",
              "    </tr>\n",
              "    <tr>\n",
              "      <th>mean</th>\n",
              "      <td>NaN</td>\n",
              "      <td>118.601836</td>\n",
              "      <td>2005.806050</td>\n",
              "      <td>NaN</td>\n",
              "      <td>NaN</td>\n",
              "      <td>NaN</td>\n",
              "      <td>2.622119e+06</td>\n",
              "      <td>8.492111</td>\n",
              "      <td>208.649031</td>\n",
              "      <td>9.175704e+02</td>\n",
              "      <td>19.304354</td>\n",
              "    </tr>\n",
              "    <tr>\n",
              "      <th>std</th>\n",
              "      <td>NaN</td>\n",
              "      <td>74.178353</td>\n",
              "      <td>7.025483</td>\n",
              "      <td>NaN</td>\n",
              "      <td>NaN</td>\n",
              "      <td>NaN</td>\n",
              "      <td>9.118004e+06</td>\n",
              "      <td>10.600220</td>\n",
              "      <td>2854.490090</td>\n",
              "      <td>6.877593e+04</td>\n",
              "      <td>2091.540939</td>\n",
              "    </tr>\n",
              "    <tr>\n",
              "      <th>min</th>\n",
              "      <td>NaN</td>\n",
              "      <td>1.000000</td>\n",
              "      <td>1994.000000</td>\n",
              "      <td>NaN</td>\n",
              "      <td>NaN</td>\n",
              "      <td>NaN</td>\n",
              "      <td>1.000000e+00</td>\n",
              "      <td>0.000001</td>\n",
              "      <td>-276.080000</td>\n",
              "      <td>-8.749370e+02</td>\n",
              "      <td>-41.501000</td>\n",
              "    </tr>\n",
              "    <tr>\n",
              "      <th>25%</th>\n",
              "      <td>NaN</td>\n",
              "      <td>55.000000</td>\n",
              "      <td>2000.000000</td>\n",
              "      <td>NaN</td>\n",
              "      <td>NaN</td>\n",
              "      <td>NaN</td>\n",
              "      <td>1.381700e+04</td>\n",
              "      <td>1.024000</td>\n",
              "      <td>5.207000</td>\n",
              "      <td>3.778500e+00</td>\n",
              "      <td>1.940000</td>\n",
              "    </tr>\n",
              "    <tr>\n",
              "      <th>50%</th>\n",
              "      <td>NaN</td>\n",
              "      <td>122.000000</td>\n",
              "      <td>2006.000000</td>\n",
              "      <td>NaN</td>\n",
              "      <td>NaN</td>\n",
              "      <td>NaN</td>\n",
              "      <td>2.533220e+05</td>\n",
              "      <td>5.762694</td>\n",
              "      <td>26.000000</td>\n",
              "      <td>1.737100e+01</td>\n",
              "      <td>4.127000</td>\n",
              "    </tr>\n",
              "    <tr>\n",
              "      <th>75%</th>\n",
              "      <td>NaN</td>\n",
              "      <td>176.000000</td>\n",
              "      <td>2012.000000</td>\n",
              "      <td>NaN</td>\n",
              "      <td>NaN</td>\n",
              "      <td>NaN</td>\n",
              "      <td>1.424034e+06</td>\n",
              "      <td>17.006000</td>\n",
              "      <td>47.113000</td>\n",
              "      <td>4.213700e+01</td>\n",
              "      <td>7.745000</td>\n",
              "    </tr>\n",
              "    <tr>\n",
              "      <th>max</th>\n",
              "      <td>NaN</td>\n",
              "      <td>514.000000</td>\n",
              "      <td>2018.000000</td>\n",
              "      <td>NaN</td>\n",
              "      <td>NaN</td>\n",
              "      <td>NaN</td>\n",
              "      <td>5.558942e+08</td>\n",
              "      <td>341.260000</td>\n",
              "      <td>139358.000000</td>\n",
              "      <td>7.964521e+06</td>\n",
              "      <td>359278.000000</td>\n",
              "    </tr>\n",
              "  </tbody>\n",
              "</table>\n",
              "</div>"
            ],
            "text/plain": [
              "                      record_id  ...  fuel_cost_per_mmbtu\n",
              "count                     29523  ...         29523.000000\n",
              "unique                    29523  ...                  NaN\n",
              "top     f1_fuel_2007_12_194_0_4  ...                  NaN\n",
              "freq                          1  ...                  NaN\n",
              "mean                        NaN  ...            19.304354\n",
              "std                         NaN  ...          2091.540939\n",
              "min                         NaN  ...           -41.501000\n",
              "25%                         NaN  ...             1.940000\n",
              "50%                         NaN  ...             4.127000\n",
              "75%                         NaN  ...             7.745000\n",
              "max                         NaN  ...        359278.000000\n",
              "\n",
              "[11 rows x 11 columns]"
            ]
          },
          "metadata": {},
          "execution_count": 30
        }
      ]
    },
    {
      "cell_type": "code",
      "metadata": {
        "colab": {
          "base_uri": "https://localhost:8080/"
        },
        "id": "yfDhaY6tFhmI",
        "outputId": "40e6e237-8192-47e4-e9b1-1449107c8843"
      },
      "source": [
        "fuel_data.isnull().sum()"
      ],
      "execution_count": null,
      "outputs": [
        {
          "output_type": "execute_result",
          "data": {
            "text/plain": [
              "record_id                         0\n",
              "utility_id_ferc1                  0\n",
              "report_year                       0\n",
              "plant_name_ferc1                  0\n",
              "fuel_type_code_pudl               0\n",
              "fuel_unit                       180\n",
              "fuel_qty_burned                   0\n",
              "fuel_mmbtu_per_unit               0\n",
              "fuel_cost_per_unit_burned         0\n",
              "fuel_cost_per_unit_delivered      0\n",
              "fuel_cost_per_mmbtu               0\n",
              "dtype: int64"
            ]
          },
          "metadata": {},
          "execution_count": 31
        }
      ]
    },
    {
      "cell_type": "code",
      "metadata": {
        "colab": {
          "base_uri": "https://localhost:8080/"
        },
        "id": "fk-S8_FEMpei",
        "outputId": "f7e0ac52-3176-45ac-8cf8-6857aa74e89f"
      },
      "source": [
        "fuel_data.groupby('fuel_unit')['fuel_unit'].count()"
      ],
      "execution_count": null,
      "outputs": [
        {
          "output_type": "execute_result",
          "data": {
            "text/plain": [
              "fuel_unit\n",
              "bbl        7998\n",
              "gal          84\n",
              "gramsU      464\n",
              "kgU         110\n",
              "mcf       11354\n",
              "mmbtu       180\n",
              "mwdth        95\n",
              "mwhth       100\n",
              "ton        8958\n",
              "Name: fuel_unit, dtype: int64"
            ]
          },
          "metadata": {},
          "execution_count": 32
        }
      ]
    },
    {
      "cell_type": "code",
      "metadata": {
        "id": "K-jWwPUOM3sY"
      },
      "source": [
        "fuel_data[['fuel_unit']] = fuel_data[['fuel_unit']].fillna(value='mcf')"
      ],
      "execution_count": null,
      "outputs": []
    },
    {
      "cell_type": "code",
      "metadata": {
        "colab": {
          "base_uri": "https://localhost:8080/"
        },
        "id": "Rhrgw78HNN6I",
        "outputId": "76012f98-fb2f-4e4c-da12-0b6d1ce8b0ac"
      },
      "source": [
        "fuel_data.groupby('fuel_unit')['fuel_unit'].count()"
      ],
      "execution_count": null,
      "outputs": [
        {
          "output_type": "execute_result",
          "data": {
            "text/plain": [
              "fuel_unit\n",
              "bbl        7998\n",
              "gal          84\n",
              "gramsU      464\n",
              "kgU         110\n",
              "mcf       11534\n",
              "mmbtu       180\n",
              "mwdth        95\n",
              "mwhth       100\n",
              "ton        8958\n",
              "Name: fuel_unit, dtype: int64"
            ]
          },
          "metadata": {},
          "execution_count": 34
        }
      ]
    },
    {
      "cell_type": "code",
      "metadata": {
        "colab": {
          "base_uri": "https://localhost:8080/"
        },
        "id": "ueXrhjr8Oo6P",
        "outputId": "283ef453-320a-47c0-8a80-b6d27411d55e"
      },
      "source": [
        "fuel_data['report_year'].unique()"
      ],
      "execution_count": null,
      "outputs": [
        {
          "output_type": "execute_result",
          "data": {
            "text/plain": [
              "array([1994, 1995, 1996, 1997, 1998, 1999, 2000, 2001, 2002, 2003, 2004,\n",
              "       2005, 2006, 2007, 2008, 2009, 2010, 2011, 2012, 2013, 2014, 2015,\n",
              "       2016, 2017, 2018])"
            ]
          },
          "metadata": {},
          "execution_count": 36
        }
      ]
    },
    {
      "cell_type": "code",
      "metadata": {
        "id": "4vyAknAFP0fn"
      },
      "source": [
        ""
      ],
      "execution_count": null,
      "outputs": []
    }
  ]
}